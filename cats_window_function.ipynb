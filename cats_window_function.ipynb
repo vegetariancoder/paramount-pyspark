{
 "cells": [
  {
   "cell_type": "markdown",
   "metadata": {
    "pycharm": {
     "name": "#%% md\n"
    }
   },
   "source": [
    "# Pyspark Window Function Problem"
   ]
  },
  {
   "cell_type": "code",
   "execution_count": 7,
   "metadata": {
    "pycharm": {
     "name": "#%%\n"
    }
   },
   "outputs": [],
   "source": [
    "from pyspark.sql import SparkSession\n",
    "from pyspark.sql.window import Window\n",
    "from pyspark.sql.functions import sum, col, round\n",
    "\n",
    "spark = SparkSession\\\n",
    "    .builder\\\n",
    "    .config(\"spark.jars\", \"/Users/sahiltest/Downloads/mysql-connector-java-8.0.22.jar\")\\\n",
    "    .config(\"spark.driver.host\",\"127.0.0.1\")\\\n",
    "    .config(\"spark.driver.bindAddress\",\"127.0.0.1\")\\\n",
    "    .master(\"local[*]\")\\\n",
    "    .appName(\"cats data set\")\\\n",
    "    .getOrCreate()"
   ]
  },
  {
   "cell_type": "markdown",
   "metadata": {
    "pycharm": {
     "name": "#%% md\n"
    }
   },
   "source": [
    "## Reading Cats Dataset"
   ]
  },
  {
   "cell_type": "code",
   "execution_count": 1,
   "metadata": {
    "pycharm": {
     "name": "#%%\n"
    }
   },
   "outputs": [
    {
     "name": "stderr",
     "output_type": "stream",
     "text": [
      "22/02/02 17:42:08 WARN Utils: Your hostname, Sahils-iMac.local resolves to a loopback address: 127.0.0.1; using 192.168.2.18 instead (on interface en1)\n",
      "22/02/02 17:42:08 WARN Utils: Set SPARK_LOCAL_IP if you need to bind to another address\n",
      "22/02/02 17:42:08 WARN NativeCodeLoader: Unable to load native-hadoop library for your platform... using builtin-java classes where applicable\n",
      "Using Spark's default log4j profile: org/apache/spark/log4j-defaults.properties\n",
      "Setting default log level to \"WARN\".\n",
      "To adjust logging level use sc.setLogLevel(newLevel). For SparkR, use setLogLevel(newLevel).\n"
     ]
    }
   ],
   "source": [
    "cats_data = spark\\\n",
    "    .read\\\n",
    "    .format(\"csv\")\\\n",
    "    .option(\"header\",True)\\\n",
    "    .option(\"delimiter\",\",\")\\\n",
    "    .option(\"inferSchema\",True)\\\n",
    "    .load(\"/Users/sahiltest/PycharmProjects/spark-fundamentals/learn.Input/cats_data.txt\")"
   ]
  },
  {
   "cell_type": "markdown",
   "metadata": {
    "pycharm": {
     "name": "#%% md\n"
    }
   },
   "source": [
    "### dataset schema"
   ]
  },
  {
   "cell_type": "code",
   "execution_count": 11,
   "metadata": {
    "pycharm": {
     "name": "#%%\n"
    }
   },
   "outputs": [
    {
     "name": "stdout",
     "output_type": "stream",
     "text": [
      "root\n",
      " |-- name: string (nullable = true)\n",
      " |-- breed: string (nullable = true)\n",
      " |-- weight: double (nullable = true)\n",
      " |-- color: string (nullable = true)\n",
      " |-- age: integer (nullable = true)\n",
      "\n"
     ]
    }
   ],
   "source": [
    "cats_data.printSchema()"
   ]
  },
  {
   "cell_type": "markdown",
   "metadata": {
    "pycharm": {
     "name": "#%% md\n"
    }
   },
   "source": [
    "### We would like to find the total weight of cats grouped by age. But only return those groups with a total weight larger than 12."
   ]
  },
  {
   "cell_type": "code",
   "execution_count": 8,
   "metadata": {
    "pycharm": {
     "name": "#%%\n"
    }
   },
   "outputs": [
    {
     "name": "stdout",
     "output_type": "stream",
     "text": [
      "+---+------------+\n",
      "|age|total_weight|\n",
      "+---+------------+\n",
      "|  2|        19.6|\n",
      "|  4|        15.8|\n",
      "|  5|        15.4|\n",
      "+---+------------+\n",
      "\n"
     ]
    }
   ],
   "source": [
    "cats_data\\\n",
    "    .select(\"age\",\"weight\")\\\n",
    "    .groupby(col(\"age\"))\\\n",
    "    .agg(sum(col(\"weight\")).alias(\"total_weight\"))\\\n",
    "    .filter(col(\"total_weight\")>12)\\\n",
    "    .orderBy(col(\"total_weight\").desc())\\\n",
    "    .show()"
   ]
  },
  {
   "cell_type": "markdown",
   "metadata": {
    "pycharm": {
     "name": "#%% md\n"
    }
   },
   "source": [
    "### The cats must be ordered by name and will enter an elevator one by one. We would like to know what the running total weight is."
   ]
  },
  {
   "cell_type": "code",
   "execution_count": 9,
   "metadata": {
    "pycharm": {
     "name": "#%%\n"
    }
   },
   "outputs": [
    {
     "name": "stderr",
     "output_type": "stream",
     "text": [
      "22/02/02 17:45:22 WARN WindowExec: No Partition Defined for Window operation! Moving all data to a single partition, this can cause serious performance degradation.\n",
      "22/02/02 17:45:22 WARN WindowExec: No Partition Defined for Window operation! Moving all data to a single partition, this can cause serious performance degradation.\n",
      "22/02/02 17:45:22 WARN WindowExec: No Partition Defined for Window operation! Moving all data to a single partition, this can cause serious performance degradation.\n"
     ]
    },
    {
     "name": "stdout",
     "output_type": "stream",
     "text": [
      "+-------+------------------------------+\n",
      "|   name|round(running_total_weight, 0)|\n",
      "+-------+------------------------------+\n",
      "|  Alfie|                           6.0|\n",
      "|  Ashes|                          10.0|\n",
      "|Charlie|                          15.0|\n",
      "|  Felix|                          20.0|\n",
      "| Millie|                          25.0|\n",
      "|  Misty|                          31.0|\n",
      "|  Molly|                          35.0|\n",
      "|  Oscar|                          41.0|\n",
      "|   Puss|                          46.0|\n",
      "| Smokey|                          52.0|\n",
      "| Smudge|                          57.0|\n",
      "| Tigger|                          61.0|\n",
      "+-------+------------------------------+\n",
      "\n"
     ]
    }
   ],
   "source": [
    "cats_data\\\n",
    "    .select(\"name\",\"weight\")\\\n",
    "    .withColumn(\"running_total_weight\",sum(col(\"weight\")).over(Window.orderBy(col(\"name\"))))\\\n",
    "    .select(\"name\",round(\"running_total_weight\"))\\\n",
    "    .show()"
   ]
  },
  {
   "cell_type": "markdown",
   "metadata": {
    "pycharm": {
     "name": "#%% md\n"
    }
   },
   "source": [
    "### The cats must be ordered first by breed and second by name. They are about to enter an elevator one by one. When all the cats of the same breed have entered they leave."
   ]
  },
  {
   "cell_type": "code",
   "execution_count": 10,
   "metadata": {
    "pycharm": {
     "name": "#%%\n"
    }
   },
   "outputs": [
    {
     "name": "stdout",
     "output_type": "stream",
     "text": [
      "+-------+-----------------+--------------------+\n",
      "|   name|            breed|running_total_weight|\n",
      "+-------+-----------------+--------------------+\n",
      "|Charlie|British Shorthair|                 5.0|\n",
      "| Smudge|British Shorthair|                10.0|\n",
      "| Tigger|British Shorthair|                14.0|\n",
      "| Millie|       Maine Coon|                 5.0|\n",
      "|  Misty|       Maine Coon|                11.0|\n",
      "|   Puss|       Maine Coon|                16.0|\n",
      "| Smokey|       Maine Coon|                22.0|\n",
      "|  Ashes|          Persian|                 5.0|\n",
      "|  Felix|          Persian|                10.0|\n",
      "|  Molly|          Persian|                14.0|\n",
      "|  Alfie|          Siamese|                 6.0|\n",
      "|  Oscar|          Siamese|                12.0|\n",
      "+-------+-----------------+--------------------+\n",
      "\n"
     ]
    }
   ],
   "source": [
    "cats_data\\\n",
    "    .select(\"name\",\"weight\",\"breed\")\\\n",
    "    .withColumn(\"running_total_weight\",sum(col(\"weight\")).over(Window.partitionBy(col(\"breed\")).orderBy(col(\"name\"))))\\\n",
    "    .select(\"name\",\"breed\",round(\"running_total_weight\").alias(\"running_total_weight\"))\\\n",
    "    .show()"
   ]
  },
  {
   "cell_type": "markdown",
   "metadata": {
    "pycharm": {
     "name": "#%% md\n"
    }
   },
   "source": [
    "### The cats would like to see the average of the weight of them, the cat just after them and the cat just before them. The first and last cats are content to have an average weight of consisting of 2 cats not 3."
   ]
  },
  {
   "cell_type": "code",
   "execution_count": 15,
   "metadata": {
    "pycharm": {
     "name": "#%%\n"
    }
   },
   "outputs": [
    {
     "name": "stdout",
     "output_type": "stream",
     "text": [
      "+-------+------+--------------+\n",
      "|   name|weight|average_weight|\n",
      "+-------+------+--------------+\n",
      "| Tigger|   3.8|           3.8|\n",
      "|  Molly|   4.2|           4.0|\n",
      "|  Ashes|   4.5|           4.2|\n",
      "|Charlie|   4.8|           4.3|\n",
      "| Smudge|   4.9|           4.4|\n",
      "|  Felix|   5.0|           4.5|\n",
      "|   Puss|   5.1|           4.6|\n",
      "| Millie|   5.4|           4.7|\n",
      "|  Alfie|   5.5|           4.8|\n",
      "|  Misty|   5.7|           4.9|\n",
      "|  Oscar|   6.1|           5.1|\n",
      "| Smokey|   6.1|           5.1|\n",
      "+-------+------+--------------+\n",
      "\n"
     ]
    },
    {
     "name": "stderr",
     "output_type": "stream",
     "text": [
      "22/02/02 17:53:06 WARN WindowExec: No Partition Defined for Window operation! Moving all data to a single partition, this can cause serious performance degradation.\n",
      "22/02/02 17:53:06 WARN WindowExec: No Partition Defined for Window operation! Moving all data to a single partition, this can cause serious performance degradation.\n",
      "22/02/02 17:53:06 WARN WindowExec: No Partition Defined for Window operation! Moving all data to a single partition, this can cause serious performance degradation.\n"
     ]
    }
   ],
   "source": [
    "from pyspark.sql.functions import avg\n",
    "\n",
    "cats_data\\\n",
    "    .select(\"name\",\"weight\")\\\n",
    "    .withColumn(\"average_weight\",avg(col(\"weight\")).over(Window.orderBy(col(\"weight\"))))\\\n",
    "    .select(\"name\",\"weight\",round(\"average_weight\",1).alias(\"average_weight\"))\\\n",
    "    .show()"
   ]
  },
  {
   "cell_type": "markdown",
   "metadata": {
    "pycharm": {
     "name": "#%% md\n"
    }
   },
   "source": [
    "### The cats must be ordered by weight descending and will enter an elevator one by one. We would like to know what the running total weight is. If two cats have the same weight they must enter separately"
   ]
  },
  {
   "cell_type": "code",
   "execution_count": 18,
   "metadata": {
    "pycharm": {
     "name": "#%%\n"
    }
   },
   "outputs": [
    {
     "name": "stdout",
     "output_type": "stream",
     "text": [
      "+-------+------+--------------------+\n",
      "|   name|weight|running_total_weight|\n",
      "+-------+------+--------------------+\n",
      "|  Oscar|   6.1|                 6.1|\n",
      "| Smokey|   6.1|                12.2|\n",
      "|  Misty|   5.7|                17.9|\n",
      "|  Alfie|   5.5|                23.4|\n",
      "| Millie|   5.4|                28.8|\n",
      "|   Puss|   5.1|                33.9|\n",
      "|  Felix|   5.0|                38.9|\n",
      "| Smudge|   4.9|                43.8|\n",
      "|Charlie|   4.8|                48.6|\n",
      "|  Ashes|   4.5|                53.1|\n",
      "|  Molly|   4.2|                57.3|\n",
      "| Tigger|   3.8|                61.1|\n",
      "+-------+------+--------------------+\n",
      "\n"
     ]
    },
    {
     "name": "stderr",
     "output_type": "stream",
     "text": [
      "22/02/02 18:06:11 WARN WindowExec: No Partition Defined for Window operation! Moving all data to a single partition, this can cause serious performance degradation.\n",
      "22/02/02 18:06:11 WARN WindowExec: No Partition Defined for Window operation! Moving all data to a single partition, this can cause serious performance degradation.\n",
      "22/02/02 18:06:11 WARN WindowExec: No Partition Defined for Window operation! Moving all data to a single partition, this can cause serious performance degradation.\n"
     ]
    }
   ],
   "source": [
    "cats_data\\\n",
    "    .select(\"name\",\"weight\")\\\n",
    "    .withColumn(\"running_total_weight\",sum(col(\"weight\")).over(Window.orderBy(col(\"weight\").desc()).rowsBetween(Window.unboundedPreceding,0)))\\\n",
    "    .select(\"name\",\"weight\",round(\"running_total_weight\",1).alias(\"running_total_weight\"))\\\n",
    "    .show()"
   ]
  },
  {
   "cell_type": "markdown",
   "metadata": {
    "pycharm": {
     "name": "#%% md\n"
    }
   },
   "source": [
    "### The cats form a line grouped by color. Inside each color group the cats order themselves by name. Every cat must have a unique number for its place in the line."
   ]
  },
  {
   "cell_type": "code",
   "execution_count": 20,
   "metadata": {
    "pycharm": {
     "name": "#%%\n"
    }
   },
   "outputs": [
    {
     "name": "stdout",
     "output_type": "stream",
     "text": [
      "+-------------+-------+-------------+\n",
      "|unique_number|   name|        color|\n",
      "+-------------+-------+-------------+\n",
      "|            1|  Alfie|        Brown|\n",
      "|            2|  Ashes|        Black|\n",
      "|            3|Charlie|        Black|\n",
      "|            4|  Felix|Tortoiseshell|\n",
      "|            5| Millie|Tortoiseshell|\n",
      "|            6|  Misty|        Brown|\n",
      "|            7|  Molly|        Black|\n",
      "|            8|  Oscar|        Black|\n",
      "|            9|   Puss|Tortoiseshell|\n",
      "|           10| Smokey|        Brown|\n",
      "|           11| Smudge|        Black|\n",
      "|           12| Tigger|Tortoiseshell|\n",
      "+-------------+-------+-------------+\n",
      "\n"
     ]
    },
    {
     "name": "stderr",
     "output_type": "stream",
     "text": [
      "22/02/02 18:15:04 WARN WindowExec: No Partition Defined for Window operation! Moving all data to a single partition, this can cause serious performance degradation.\n",
      "22/02/02 18:15:04 WARN WindowExec: No Partition Defined for Window operation! Moving all data to a single partition, this can cause serious performance degradation.\n"
     ]
    }
   ],
   "source": [
    "from pyspark.sql.functions import row_number\n",
    "\n",
    "cats_data\\\n",
    "    .withColumn(\"unique_number\",row_number().over(Window.orderBy(col(\"name\"),col(\"color\"))))\\\n",
    "    .select(\"unique_number\",\"name\",\"color\")\\\n",
    "    .show()"
   ]
  },
  {
   "cell_type": "markdown",
   "metadata": {
    "pycharm": {
     "name": "#%% md\n"
    }
   },
   "source": [
    "### We would like to find the fattest cat. Order all our cats by weight.The two heaviest cats should both be 1st. The next heaviest should be 3rd."
   ]
  },
  {
   "cell_type": "code",
   "execution_count": 22,
   "metadata": {
    "pycharm": {
     "name": "#%%\n"
    }
   },
   "outputs": [
    {
     "name": "stdout",
     "output_type": "stream",
     "text": [
      "+-------+------+-------+\n",
      "|ranking|weight|   name|\n",
      "+-------+------+-------+\n",
      "|      1|   6.1|  Oscar|\n",
      "|      1|   6.1| Smokey|\n",
      "|      3|   5.7|  Misty|\n",
      "|      4|   5.5|  Alfie|\n",
      "|      5|   5.4| Millie|\n",
      "|      6|   5.1|   Puss|\n",
      "|      7|   5.0|  Felix|\n",
      "|      8|   4.9| Smudge|\n",
      "|      9|   4.8|Charlie|\n",
      "|     10|   4.5|  Ashes|\n",
      "|     11|   4.2|  Molly|\n",
      "|     12|   3.8| Tigger|\n",
      "+-------+------+-------+\n",
      "\n"
     ]
    },
    {
     "name": "stderr",
     "output_type": "stream",
     "text": [
      "22/02/02 18:17:44 WARN WindowExec: No Partition Defined for Window operation! Moving all data to a single partition, this can cause serious performance degradation.\n",
      "22/02/02 18:17:44 WARN WindowExec: No Partition Defined for Window operation! Moving all data to a single partition, this can cause serious performance degradation.\n"
     ]
    }
   ],
   "source": [
    "from pyspark.sql.functions import rank\n",
    "\n",
    "cats_data\\\n",
    "    .withColumn(\"ranking\",rank().over(Window.orderBy(col(\"weight\").desc())))\\\n",
    "    .select(\"ranking\",\"weight\",\"name\")\\\n",
    "    .show()"
   ]
  },
  {
   "cell_type": "markdown",
   "metadata": {
    "pycharm": {
     "name": "#%% md\n"
    }
   },
   "source": [
    "### For cats age means seniority, we would like to rank the cats by age (oldest first).For cats age means seniority, we would like to rank the cats by age (oldest first)."
   ]
  },
  {
   "cell_type": "code",
   "execution_count": 24,
   "metadata": {
    "pycharm": {
     "name": "#%%\n"
    }
   },
   "outputs": [
    {
     "name": "stderr",
     "output_type": "stream",
     "text": [
      "22/02/02 18:32:32 WARN WindowExec: No Partition Defined for Window operation! Moving all data to a single partition, this can cause serious performance degradation.\n",
      "22/02/02 18:32:32 WARN WindowExec: No Partition Defined for Window operation! Moving all data to a single partition, this can cause serious performance degradation.\n",
      "22/02/02 18:32:32 WARN WindowExec: No Partition Defined for Window operation! Moving all data to a single partition, this can cause serious performance degradation.\n"
     ]
    },
    {
     "name": "stdout",
     "output_type": "stream",
     "text": [
      "+--------+-------+---+\n",
      "|rankings|   name|age|\n",
      "+--------+-------+---+\n",
      "|       1|  Alfie|  5|\n",
      "|       1|  Ashes|  5|\n",
      "|       2|Charlie|  4|\n",
      "|       3|  Felix|  2|\n",
      "|       1| Millie|  5|\n",
      "|       3|  Misty|  2|\n",
      "|       4|  Molly|  1|\n",
      "|       4|  Oscar|  1|\n",
      "|       3|   Puss|  2|\n",
      "|       2| Smokey|  4|\n",
      "|       2| Smudge|  4|\n",
      "|       3| Tigger|  2|\n",
      "+--------+-------+---+\n",
      "\n"
     ]
    }
   ],
   "source": [
    "from pyspark.sql.functions import dense_rank\n",
    "\n",
    "cats_data\\\n",
    "    .withColumn(\"rankings\",dense_rank().over(Window.orderBy(col(\"age\").desc())))\\\n",
    "    .select(\"rankings\",\"name\",\"age\")\\\n",
    "    .orderBy(\"name\")\\\n",
    "    .show()"
   ]
  },
  {
   "cell_type": "markdown",
   "metadata": {
    "pycharm": {
     "name": "#%% md\n"
    }
   },
   "source": [
    "### Each cat would like to know what percentage of other cats weigh less than it"
   ]
  },
  {
   "cell_type": "code",
   "execution_count": 27,
   "metadata": {
    "pycharm": {
     "name": "#%%\n"
    }
   },
   "outputs": [
    {
     "name": "stdout",
     "output_type": "stream",
     "text": [
      "+-------+------+-------+\n",
      "|   name|weight|percent|\n",
      "+-------+------+-------+\n",
      "| Tigger|   3.8|    0.0|\n",
      "|  Molly|   4.2|    9.1|\n",
      "|  Ashes|   4.5|   18.2|\n",
      "|Charlie|   4.8|   27.3|\n",
      "| Smudge|   4.9|   36.4|\n",
      "|  Felix|   5.0|   45.5|\n",
      "|   Puss|   5.1|   54.5|\n",
      "| Millie|   5.4|   63.6|\n",
      "|  Alfie|   5.5|   72.7|\n",
      "|  Misty|   5.7|   81.8|\n",
      "|  Oscar|   6.1|   90.9|\n",
      "| Smokey|   6.1|   90.9|\n",
      "+-------+------+-------+\n",
      "\n"
     ]
    },
    {
     "name": "stderr",
     "output_type": "stream",
     "text": [
      "22/02/02 18:46:07 WARN WindowExec: No Partition Defined for Window operation! Moving all data to a single partition, this can cause serious performance degradation.\n",
      "22/02/02 18:46:07 WARN WindowExec: No Partition Defined for Window operation! Moving all data to a single partition, this can cause serious performance degradation.\n"
     ]
    }
   ],
   "source": [
    "from pyspark.sql.functions import percent_rank\n",
    "\n",
    "cats_data\\\n",
    "    .withColumn(\"percent\",percent_rank().over(Window.orderBy(col(\"weight\"))))\\\n",
    "    .select(\"name\",\"weight\",round(col(\"percent\")*100,1).alias(\"percent\"))\\\n",
    "    .show()"
   ]
  },
  {
   "cell_type": "markdown",
   "metadata": {
    "pycharm": {
     "name": "#%% md\n"
    }
   },
   "source": [
    "### We are worried our cats are too fat and need to diet. We would like to group the cats into quartiles by their weight. Here we have to use n_tile window function.\n",
    "\n"
   ]
  },
  {
   "cell_type": "code",
   "execution_count": 28,
   "metadata": {
    "pycharm": {
     "name": "#%%\n"
    }
   },
   "outputs": [
    {
     "name": "stderr",
     "output_type": "stream",
     "text": [
      "22/02/02 20:01:45 WARN WindowExec: No Partition Defined for Window operation! Moving all data to a single partition, this can cause serious performance degradation.\n",
      "22/02/02 20:01:45 WARN WindowExec: No Partition Defined for Window operation! Moving all data to a single partition, this can cause serious performance degradation.\n"
     ]
    },
    {
     "name": "stdout",
     "output_type": "stream",
     "text": [
      "+-------+------+---------------+\n",
      "|   name|weight|weight_quartile|\n",
      "+-------+------+---------------+\n",
      "| Tigger|   3.8|              1|\n",
      "|  Molly|   4.2|              1|\n",
      "|  Ashes|   4.5|              1|\n",
      "|Charlie|   4.8|              2|\n",
      "| Smudge|   4.9|              2|\n",
      "|  Felix|   5.0|              2|\n",
      "|   Puss|   5.1|              3|\n",
      "| Millie|   5.4|              3|\n",
      "|  Alfie|   5.5|              3|\n",
      "|  Misty|   5.7|              4|\n",
      "|  Oscar|   6.1|              4|\n",
      "| Smokey|   6.1|              4|\n",
      "+-------+------+---------------+\n",
      "\n"
     ]
    }
   ],
   "source": [
    "from pyspark.sql.functions import ntile,lag\n",
    "\n",
    "cats_data\\\n",
    "    .withColumn(\"weight_quartile\",ntile(4).over(Window.orderBy(col(\"weight\"))))\\\n",
    "    .select(\"name\",\"weight\",\"weight_quartile\")\\\n",
    "    .show()"
   ]
  },
  {
   "cell_type": "markdown",
   "source": [
    "### Cats are fickle. Each cat would like to lose weight to be the equivalent weight of the cat weighing just less than it. Print a list of cats, their weights and the weight difference between them and the nearest lighter cat ordered by weight."
   ],
   "metadata": {
    "collapsed": false,
    "pycharm": {
     "name": "#%% md\n"
    }
   }
  },
  {
   "cell_type": "code",
   "execution_count": 44,
   "metadata": {
    "pycharm": {
     "name": "#%%\n"
    }
   },
   "outputs": [
    {
     "name": "stderr",
     "output_type": "stream",
     "text": [
      "22/02/03 21:48:52 WARN WindowExec: No Partition Defined for Window operation! Moving all data to a single partition, this can cause serious performance degradation.\n",
      "22/02/03 21:48:52 WARN WindowExec: No Partition Defined for Window operation! Moving all data to a single partition, this can cause serious performance degradation.\n",
      "22/02/03 21:48:52 WARN WindowExec: No Partition Defined for Window operation! Moving all data to a single partition, this can cause serious performance degradation.\n"
     ]
    },
    {
     "name": "stdout",
     "output_type": "stream",
     "text": [
      "+-------+------+--------------+\n",
      "|   name|weight|weight_to_lose|\n",
      "+-------+------+--------------+\n",
      "| Tigger|   3.8|           0.0|\n",
      "|  Molly|   4.2|           0.4|\n",
      "|  Ashes|   4.5|           0.3|\n",
      "|Charlie|   4.8|           0.3|\n",
      "| Smudge|   4.9|           0.1|\n",
      "|  Felix|   5.0|           0.1|\n",
      "|   Puss|   5.1|           0.1|\n",
      "| Millie|   5.4|           0.3|\n",
      "|  Alfie|   5.5|           0.1|\n",
      "|  Misty|   5.7|           0.2|\n",
      "|  Oscar|   6.1|           0.4|\n",
      "| Smokey|   6.1|           0.0|\n",
      "+-------+------+--------------+\n",
      "\n"
     ]
    }
   ],
   "source": [
    "from pyspark.sql.functions import lag\n",
    "\n",
    "cats_data\\\n",
    "    .withColumn(\"previous_values\",lag(col(\"weight\")).over(Window.orderBy(col(\"weight\"))))\\\n",
    "    .withColumn(\"weight_to_lose\",col(\"weight\")-col(\"previous_values\"))\\\n",
    "    .fillna(value=0,subset=[\"weight_to_lose\"])\\\n",
    "    .select(\"name\",\"weight\",round(\"weight_to_lose\",1).alias(\"weight_to_lose\"))\\\n",
    "    .show()\n"
   ]
  },
  {
   "cell_type": "code",
   "execution_count": 43,
   "outputs": [
    {
     "name": "stdout",
     "output_type": "stream",
     "text": [
      "Partitioning Started\n",
      "Partitioning Done\n"
     ]
    }
   ],
   "source": [
    "print(\"Partitioning Started\")\n",
    "cats_data\\\n",
    "    .write\\\n",
    "    .format(\"csv\")\\\n",
    "    .option(\"header\",True)\\\n",
    "    .partitionBy(\"breed\")\\\n",
    "    .mode(\"overwrite\")\\\n",
    "    .save(\"/Users/sahiltest/PycharmProjects/spark-fundamentals/learn.Input/breedwiseData/\")\n",
    "print(\"Partitioning Done\")"
   ],
   "metadata": {
    "collapsed": false,
    "pycharm": {
     "name": "#%%\n"
    }
   }
  },
  {
   "cell_type": "markdown",
   "source": [
    "### The cats now want to lose weight according to their breed. Each cat would like to lose weight to be the equivalent weight of the cat in the same breed weighing just less than it. Print a list of cats, their breeds, weights and the weight difference between them and the nearest lighter cat of the same breed."
   ],
   "metadata": {
    "collapsed": false,
    "pycharm": {
     "name": "#%% md\n"
    }
   }
  },
  {
   "cell_type": "code",
   "execution_count": 51,
   "outputs": [
    {
     "name": "stdout",
     "output_type": "stream",
     "text": [
      "+-------+-----------------+------+--------------+\n",
      "|   name|            breed|weight|weight_to_lose|\n",
      "+-------+-----------------+------+--------------+\n",
      "| Tigger|British Shorthair|   3.8|           0.0|\n",
      "|  Molly|          Persian|   4.2|           0.0|\n",
      "|  Ashes|          Persian|   4.5|           0.3|\n",
      "|Charlie|British Shorthair|   4.8|           1.0|\n",
      "| Smudge|British Shorthair|   4.9|           0.1|\n",
      "|  Felix|          Persian|   5.0|           0.5|\n",
      "|   Puss|       Maine Coon|   5.1|           0.0|\n",
      "| Millie|       Maine Coon|   5.4|           0.3|\n",
      "|  Alfie|          Siamese|   5.5|           0.0|\n",
      "|  Misty|       Maine Coon|   5.7|           0.3|\n",
      "| Smokey|       Maine Coon|   6.1|           0.4|\n",
      "|  Oscar|          Siamese|   6.1|           0.6|\n",
      "+-------+-----------------+------+--------------+\n",
      "\n"
     ]
    }
   ],
   "source": [
    "cats_data\\\n",
    "    .select(\"name\",\"breed\",\"weight\")\\\n",
    "    .withColumn(\"previous_weight\",lag(\"weight\").over(Window.partitionBy(col(\"breed\")).orderBy(col(\"weight\"))))\\\n",
    "    .withColumn(\"weight_to_lose\",col(\"weight\")-col(\"previous_weight\"))\\\n",
    "    .fillna(value=0.0,subset=[\"previous_weight\",\"weight_to_lose\"])\\\n",
    "    .select(\"name\",\"breed\",\"weight\",round(\"weight_to_lose\",1).alias(\"weight_to_lose\"))\\\n",
    "    .orderBy(\"weight\")\\\n",
    "    .show()"
   ],
   "metadata": {
    "collapsed": false,
    "pycharm": {
     "name": "#%%\n"
    }
   }
  },
  {
   "cell_type": "code",
   "execution_count": null,
   "outputs": [],
   "source": [],
   "metadata": {
    "collapsed": false,
    "pycharm": {
     "name": "#%%\n"
    }
   }
  }
 ],
 "metadata": {
  "kernelspec": {
   "display_name": "Python 3 (ipykernel)",
   "language": "python",
   "name": "python3"
  },
  "language_info": {
   "codemirror_mode": {
    "name": "ipython",
    "version": 3
   },
   "file_extension": ".py",
   "mimetype": "text/x-python",
   "name": "python",
   "nbconvert_exporter": "python",
   "pygments_lexer": "ipython3",
   "version": "3.10.1"
  }
 },
 "nbformat": 4,
 "nbformat_minor": 1
}